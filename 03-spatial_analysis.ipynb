{
 "cells": [
  {
   "cell_type": "code",
   "execution_count": null,
   "id": "2d6d769c-1907-4a79-8253-7151ce7503bb",
   "metadata": {},
   "outputs": [],
   "source": [
    "import os, sys, re, random, math, time, glob\n",
    "import pandas as pd\n",
    "import numpy as np\n",
    "import matplotlib.pyplot as plt\n",
    "import matplotlib as mpl\n",
    "from sklearn.neighbors import NearestNeighbors\n",
    "from sklearn.cluster import MiniBatchKMeans\n",
    "import seaborn as sns\n",
    "from pprint import pprint\n",
    "import yaml\n",
    "import uuid\n",
    "import time\n",
    "import pickle\n",
    "\n",
    "import anndata as ad\n",
    "print(f\"anndata=={ad.__version__}\")\n",
    "import scanpy as sc\n",
    "import squidpy as sq\n",
    "print(f\"squidpy=={sq.__version__}\")\n",
    "import scimap as sm\n",
    "print(f\"scimap=={sm.__version__}\")\n",
    "\n",
    "from scipy.stats import kurtosis\n",
    "from scipy.stats import skew\n",
    "from scipy.stats import iqr\n",
    "\n",
    "%matplotlib inline"
   ]
  },
  {
   "cell_type": "code",
   "execution_count": null,
   "id": "a52ac1ef-2356-41fd-af15-2bd2cebb1973",
   "metadata": {},
   "outputs": [],
   "source": [
    "allClassData = pd.read_csv(\"./allClassData.csv\")"
   ]
  },
  {
   "cell_type": "code",
   "execution_count": null,
   "id": "2cc5ea33-0d9c-40a4-81b9-454370025529",
   "metadata": {},
   "outputs": [],
   "source": [
    "allClassData['ROI'].nunique()"
   ]
  },
  {
   "cell_type": "markdown",
   "id": "9b42f943-98d8-4624-ac62-3dd1f4faaacd",
   "metadata": {},
   "source": [
    "# Aggregate Stats & Permutation Test (SciMap Tool)\n",
    "\n",
    "##### [ obs connections /  random permutations of connections ]"
   ]
  },
  {
   "cell_type": "code",
   "execution_count": null,
   "id": "f4cc8c95-4d4b-4f1f-adf9-82e4115fa59a",
   "metadata": {},
   "outputs": [],
   "source": [
    "## Create AnnData object\n",
    "noBad = allClassData[~allClassData['Class'].str.contains(\"ARTIFACT: \", na=False)] # remove artifacts from allClassData\n",
    "singleJustVars = noBad.filter(regex='(_Cell_)',axis=1) # Get only markers\n",
    "singleJustVars = singleJustVars[singleJustVars.columns.drop(list(singleJustVars.filter(regex='(_Max|_Mean)')))] # Remove max and mean\n",
    "\n",
    "adata = ad.AnnData(singleJustVars) # create AnnData object\n",
    "adata.obs_names = [ str(e) for e in noBad['uuid'].to_list()] # Set observation names\n",
    "adata.var_names = singleJustVars.columns.to_list() # Set variable names\n",
    "adata.obsm={ \"spatial\": noBad[['Centroid_X_um','invertY']].to_numpy(), # Add coordinates\n",
    "             \"Nucleus_Area\" : noBad[['Nucleus_Area_um2']].to_numpy(), # Add nucleus area\n",
    "             \"Cell_Area\" : noBad[['Cell_Area_um2']].to_numpy() # Add cell area\n",
    "           }  \n",
    "adata.obs[\"cell_type\"] = pd.Categorical( noBad['Class'] ) # Add Class annotations\n",
    "adata.uns[\"Slide\"] = noBad[\"Slide\"] # Add Slide\n",
    "adata.obs[\"imageid\"] = pd.Categorical( noBad[\"ROI\"] ) # Add ROI number\n",
    "adata.obs[\"cohort_site\"] = pd.Categorical( noBad[\"Origin\"] )\n",
    "\n",
    "adata"
   ]
  },
  {
   "cell_type": "code",
   "execution_count": null,
   "id": "8c16537f-9e9f-4e3e-9884-d41b24976fdc",
   "metadata": {},
   "outputs": [],
   "source": [
    "noBad[\"Origin\"].value_counts()"
   ]
  },
  {
   "cell_type": "code",
   "execution_count": null,
   "id": "886a16d7-1438-4117-835e-a5590ee4234f",
   "metadata": {},
   "outputs": [],
   "source": [
    "# Get highest expressed markers\n",
    "fig, ax1 = plt.subplots(figsize=(15,9))\n",
    "sc.pl.highest_expr_genes(adata, n_top=25, ax=ax1, save='highest_expressed_markers.png')"
   ]
  },
  {
   "cell_type": "code",
   "execution_count": null,
   "id": "a991c060-829a-44ce-b7fe-c25a8e13ff42",
   "metadata": {},
   "outputs": [],
   "source": [
    "sc.pp.calculate_qc_metrics(\n",
    "    adata,\n",
    "    percent_top=(5, 10, 15),\n",
    "    var_type=\"antibodies\",\n",
    "    inplace=True\n",
    ")\n",
    "\n",
    "# log1p_total_counts = log(1+x) where x is total count of genes in a cell\n",
    "# n_antibodies_by_counts = number of antibodies with at least 1 count in a cell, calculated across all cells\n",
    "sns.jointplot(\"log1p_total_counts\", \"n_antibodies_by_counts\", adata.obs, kind=\"hex\", norm=mpl.colors.LogNorm()) \n",
    "plt.savefig('figures/n_antibodies_by_counts.png')"
   ]
  },
  {
   "cell_type": "code",
   "execution_count": null,
   "id": "93270e0a-6d01-4934-894e-8170fbac6380",
   "metadata": {},
   "outputs": [],
   "source": [
    "# Looking at one ROI\n",
    "justRandROI = adata[adata.obs['imageid'] =='controllymph1']\n",
    "print(justRandROI.shape)\n",
    "fig, ax1 = plt.subplots(figsize=(14,9))\n",
    "sc.pl.spatial(justRandROI, color=\"cell_type\", spot_size=12, ax=ax1)"
   ]
  },
  {
   "cell_type": "markdown",
   "id": "414463c8-a49a-49d6-8b30-a5be22da77c1",
   "metadata": {},
   "source": [
    "# Neighborhood enrichment\n",
    " -----\n",
    " \n",
    "A similar analysis that can inform on the neighbor structure of the tissue is the *neighborhood enrichment test*.\n",
    "You can compute such score with the following function: :func:`squidpy.gr.nhood_enrichment`.\n",
    "In short, it's an enrichment score on spatial proximity of clusters: if spots belonging to two different clusters are often close to each other, then they will have a high score and can be defined as being *enriched*.\n",
    "On the other hand, if they are far apart, the score will be low and they can be defined as *depleted*.\n",
    "\n",
    "This score is based on a permutation-based test, and you can set the number of permutations with the ``n_perms`` argument (default is 1000).\n",
    "Since the function works on a connectivity matrix, we need to compute that as well.\n",
    "This can be done with :func:`squidpy.gr.spatial_neighbors`."
   ]
  },
  {
   "cell_type": "code",
   "execution_count": null,
   "id": "62388d01-4c00-4705-bd59-00b5688383fd",
   "metadata": {},
   "outputs": [],
   "source": [
    "#  https://scimap.xyz/tutorials/5-Simple_Spatial_Analysis/\n",
    "\n",
    "adata.obs[\"X\"] = adata.obsm['spatial'][:,0] \n",
    "adata.obs[\"Y\"] = adata.obsm['spatial'][:,1]\n",
    "\n",
    "start_time = time.time()\n",
    "# The function allows users to calculate the average shortest distance between phenotypes or clusters of interest (3D data supported).\n",
    "adata = sm.tl.spatial_distance (adata, \n",
    "                               x_coordinate='X', y_coordinate='Y', \n",
    "                               z_coordinate=None, \n",
    "                               phenotype='cell_type', \n",
    "                               subset=None, \n",
    "                               imageid='imageid', \n",
    "                               label='spatial_distance')\n",
    "print(\"--- %s minutes ---\" % ((time.time() - start_time)/60))"
   ]
  },
  {
   "cell_type": "code",
   "execution_count": null,
   "id": "d9f41f32-2555-4191-a3d2-388b553d25a6",
   "metadata": {},
   "outputs": [],
   "source": [
    "adata.uns['spatial_distance']"
   ]
  },
  {
   "cell_type": "code",
   "execution_count": null,
   "id": "bee8e4f1-d1c2-4ee5-b8f2-6de08028ad09",
   "metadata": {},
   "outputs": [],
   "source": [
    "# Visualize average shortest distances between cell types\n",
    "plt.rcParams['figure.figsize'] = [5, 3]\n",
    "sm.pl.spatial_distance(adata,phenotype='cell_type')"
   ]
  },
  {
   "cell_type": "markdown",
   "id": "394bbdf5-6ab2-4de3-9500-da29ba4ad172",
   "metadata": {},
   "source": [
    "## Case -- Lymph Node"
   ]
  },
  {
   "cell_type": "code",
   "execution_count": null,
   "id": "fc140dba-8782-4bf7-8f24-7a326e94b40c",
   "metadata": {},
   "outputs": [],
   "source": [
    "# The function allows users to computes how likely celltypes are found next to each another compared to random background.\n",
    "caseLymph = adata[adata.obs['cohort_site'] =='Case-Lymphnode']\n",
    "\n",
    "# Using the radius method to identify local neighbours compute P-values\n",
    "start_time = time.time()\n",
    "caseLymph = sm.tl.spatial_interaction (caseLymph, x_coordinate='X', y_coordinate='Y', \n",
    "                                  z_coordinate=None, imageid='imageid', phenotype='cell_type', method='radius', \n",
    "                                  radius=45, label='spatial_interaction_radius', permutation=2000)\n",
    "print(\"--- %s minutes ---\" % ((time.time() - start_time)/60))"
   ]
  },
  {
   "cell_type": "code",
   "execution_count": null,
   "id": "20b05b33-5f62-4dfc-9f35-a000c58f490e",
   "metadata": {},
   "outputs": [],
   "source": [
    "caseLymph.uns['spatial_interaction_radius']"
   ]
  },
  {
   "cell_type": "code",
   "execution_count": null,
   "id": "80bd2ad8-ea42-44fc-bca8-9faca6d928ad",
   "metadata": {},
   "outputs": [],
   "source": [
    "# view results\n",
    "# spatial_interaction heatmap for a single image\n",
    "\n",
    "# drawing the plot\n",
    "sm.pl.spatial_interaction(caseLymph, summarize_plot=True, \n",
    "                          spatial_interaction='spatial_interaction_radius',\n",
    "                          row_cluster=False, linewidths=0.75, linecolor='black', yticklabels=True)\n",
    "plt.show()"
   ]
  },
  {
   "cell_type": "markdown",
   "id": "c153cba3-cd97-4523-b16e-0b990c72810b",
   "metadata": {},
   "source": [
    "## Control - Lymph Node"
   ]
  },
  {
   "cell_type": "code",
   "execution_count": null,
   "id": "aed02df5-e2ba-49eb-9f5b-7e3696a7b3bb",
   "metadata": {
    "scrolled": true,
    "tags": []
   },
   "outputs": [],
   "source": [
    "cntlLymph = adata[adata.obs['cohort_site'] =='Control-Lymphnode']\n",
    "\n",
    "# Using the radius method to identify local neighbours compute P-values\n",
    "start_time = time.time()\n",
    "cntlLymph = sm.tl.spatial_interaction (cntlLymph, x_coordinate='X', y_coordinate='Y', \n",
    "                                  z_coordinate=None, imageid='imageid', phenotype='cell_type', method='radius', \n",
    "                                  radius=45, label='spatial_interaction_radius', permutation=2000)\n",
    "print(\"--- %s minutes ---\" % ((time.time() - start_time)/60))"
   ]
  },
  {
   "cell_type": "code",
   "execution_count": null,
   "id": "3705ab0b-fb05-4835-adc0-deea48ad58d0",
   "metadata": {
    "scrolled": true,
    "tags": []
   },
   "outputs": [],
   "source": [
    "cntlLymph.uns['spatial_interaction_radius']"
   ]
  },
  {
   "cell_type": "code",
   "execution_count": null,
   "id": "f2c4eda3-32af-486e-a046-acff4698c192",
   "metadata": {},
   "outputs": [],
   "source": [
    "# view results\n",
    "# spatial_interaction heatmap for a single image\n",
    "sm.pl.spatial_interaction(cntlLymph, \n",
    "                          summarize_plot=True,\n",
    "                          spatial_interaction='spatial_interaction_radius',\n",
    "                          row_cluster=False, linewidths=0.75, linecolor='black')"
   ]
  },
  {
   "cell_type": "markdown",
   "id": "b4512d5d-f230-4157-8215-6ae3b16d47a2",
   "metadata": {},
   "source": [
    "## Control -- Primary Site"
   ]
  },
  {
   "cell_type": "code",
   "execution_count": null,
   "id": "d403ef2f-c23a-412f-88d7-18bd146184b3",
   "metadata": {
    "scrolled": true,
    "tags": []
   },
   "outputs": [],
   "source": [
    "cntlPS = adata[adata.obs['cohort_site'] =='Control-PrimarySite']\n",
    "\n",
    "# Using the radius method to identify local neighbours compute P-values\n",
    "start_time = time.time()\n",
    "cntlPS = sm.tl.spatial_interaction (cntlPS, x_coordinate='X', y_coordinate='Y', \n",
    "                                  z_coordinate=None, imageid='imageid', phenotype='cell_type', method='radius', \n",
    "                                  radius=45, label='spatial_interaction_radius', permutation=2000)\n",
    "print(\"--- %s minutes ---\" % ((time.time() - start_time)/60))"
   ]
  },
  {
   "cell_type": "code",
   "execution_count": null,
   "id": "0ecba41e-43d5-47a6-9d25-d3b960972e9a",
   "metadata": {},
   "outputs": [],
   "source": [
    "cntlPS.uns['spatial_interaction_radius']"
   ]
  },
  {
   "cell_type": "code",
   "execution_count": null,
   "id": "1efd0c49-e0ed-4be8-93a0-5e0dbdb19026",
   "metadata": {},
   "outputs": [],
   "source": [
    "# view results\n",
    "# spatial_interaction heatmap for a single image\n",
    "sm.pl.spatial_interaction(cntlPS, \n",
    "                          summarize_plot=True, \n",
    "                          spatial_interaction='spatial_interaction_radius',\n",
    "                          row_cluster=False, linewidths=0.75, linecolor='black')"
   ]
  },
  {
   "cell_type": "markdown",
   "id": "4df88452-cad8-4920-a0ea-21900089aa7c",
   "metadata": {
    "tags": []
   },
   "source": [
    "## Case -- Primary Site"
   ]
  },
  {
   "cell_type": "code",
   "execution_count": null,
   "id": "a80f0f62-2764-486d-a04c-282f87a479f7",
   "metadata": {
    "scrolled": true,
    "tags": []
   },
   "outputs": [],
   "source": [
    "casePS = adata[adata.obs['cohort_site'] =='Case-PrimarySite']\n",
    "\n",
    "# Using the radius method to identify local neighbours compute P-values\n",
    "start_time = time.time()\n",
    "casePS = sm.tl.spatial_interaction (casePS, x_coordinate='X', y_coordinate='Y', \n",
    "                                  z_coordinate=None, imageid='imageid', phenotype='cell_type', method='radius', \n",
    "                                  radius=45, label='spatial_interaction_radius', permutation=2000)\n",
    "print(\"--- %s minutes ---\" % ((time.time() - start_time)/60))"
   ]
  },
  {
   "cell_type": "code",
   "execution_count": null,
   "id": "4f744856-30f4-4167-bd17-fef8a62697fd",
   "metadata": {},
   "outputs": [],
   "source": [
    "casePS.uns['spatial_interaction_radius']"
   ]
  },
  {
   "cell_type": "code",
   "execution_count": null,
   "id": "c302f692-3675-4cc3-96f0-8c61145d4a3f",
   "metadata": {},
   "outputs": [],
   "source": [
    "# view results\n",
    "# spatial_interaction heatmap for a single image\n",
    "sm.pl.spatial_interaction(casePS, \n",
    "                          summarize_plot=True,\n",
    "                          spatial_interaction='spatial_interaction_radius',\n",
    "                          row_cluster=False, linewidths=0.75, linecolor='black')"
   ]
  },
  {
   "cell_type": "markdown",
   "id": "45e802d4-4dcf-41c7-b09f-1878ba1c4816",
   "metadata": {},
   "source": [
    "# Distinct Pairwise Distances (QuPath Tool)\n",
    "\n",
    "#### Subset Dataset - Cases ONLY\n",
    "\n",
    "Need to get \"Distance\" columns in Quant file before proceeding (full dataset required)"
   ]
  },
  {
   "cell_type": "code",
   "execution_count": null,
   "id": "226e2ae1-4c89-4e23-ba17-2f06f0f76b75",
   "metadata": {},
   "outputs": [],
   "source": [
    "subset = allClassData.loc[(allClassData['Cohort'] == \"Case\") & (allClassData['SiteLoc'] == \"Lymphnode\")]\n",
    "subset = subset[list(subset.filter(regex='(Class|Distance_)'))]\n",
    "subset = subset[subset.columns.drop(list(subset.filter(regex='Distance_to_ARTIFACT')))]\n",
    "subset = subset[~subset['Class'].str.contains(\"ARTIFACT: \")]\n",
    "\n",
    "caseTableLN = subset.groupby(['Class']).agg('mean').fillna(0)\n",
    "caseTableLN.sort_index(level=0, ascending=True, inplace=True)\n",
    "caseTableLN = caseTableLN.reindex(sorted(caseTableLN.columns), axis=1)\n",
    "\n",
    "f, ax = plt.subplots(1, 2, figsize=(15, 6))\n",
    "sns.heatmap(caseTableLN, annot=True, linewidths=.5, cmap = sns.cm.rocket_r, ax=ax[0]).set(title='Average Case-Lymphnode')\n",
    "\n",
    "\n",
    "subset = allClassData.loc[(allClassData['Cohort'] == \"Case\") & (allClassData['SiteLoc'] == \"PrimarySite\")]\n",
    "subset = subset[list(subset.filter(regex='(Class|Distance_)'))]\n",
    "subset = subset[subset.columns.drop(list(subset.filter(regex='Distance_to_ARTIFACT')))]\n",
    "subset = subset[~subset['Class'].str.contains(\"ARTIFACT: \")]\n",
    "\n",
    "caseTablePS = subset.groupby(['Class']).agg('mean').fillna(0)\n",
    "caseTablePS.sort_index(level=0, ascending=True, inplace=True)\n",
    "caseTablePS = caseTablePS.reindex(sorted(caseTablePS.columns), axis=1)\n",
    "\n",
    "sns.heatmap(caseTablePS, annot=True, linewidths=.5, cmap = sns.cm.rocket_r, ax=ax[1]).set(title='Average Case-PrimarySite')\n",
    "plt.savefig('figures/caseLymph_vs_casePS_avgdist.pdf', format='pdf')"
   ]
  },
  {
   "cell_type": "markdown",
   "id": "c7c11d75-7bb5-449f-a87d-f0694e5af74c",
   "metadata": {},
   "source": [
    "#### Subset Dataset - Controls ONLY"
   ]
  },
  {
   "cell_type": "code",
   "execution_count": null,
   "id": "1178c8e6-52e0-4af1-b51c-f35c75e98b3e",
   "metadata": {},
   "outputs": [],
   "source": [
    "subset = allClassData.loc[(allClassData['Cohort'] == \"Control\") & (allClassData['SiteLoc'] == \"Lymphnode\")]\n",
    "subset = subset[list(subset.filter(regex='(Class|Distance_)'))]\n",
    "subset = subset[subset.columns.drop(list(subset.filter(regex='Distance_to_ARTIFACT')))]\n",
    "subset = subset[~subset['Class'].str.contains(\"ARTIFACT: \")]\n",
    "\n",
    "crtlTableLN = subset.groupby(['Class']).agg('mean').fillna(0)\n",
    "crtlTableLN.sort_index(level=0, ascending=True, inplace=True)\n",
    "crtlTableLN = crtlTableLN.reindex(sorted(crtlTableLN.columns), axis=1)\n",
    "\n",
    "f, ax = plt.subplots(1, 2, figsize=(15, 6))\n",
    "sns.heatmap(crtlTableLN, annot=True, linewidths=.5, cmap = sns.cm.rocket_r, ax=ax[0]).set(title='Average Control-Lymphnode')\n",
    "\n",
    "subset = allClassData.loc[(allClassData['Cohort'] == \"Control\") & (allClassData['SiteLoc'] == \"PrimarySite\")]\n",
    "subset = subset[list(subset.filter(regex='(Class|Distance_)'))]\n",
    "subset = subset[subset.columns.drop(list(subset.filter(regex='Distance_to_ARTIFACT')))]\n",
    "subset = subset[~subset['Class'].str.contains(\"ARTIFACT: \")]\n",
    "\n",
    "crtlTablePS = subset.groupby(['Class']).agg('mean').fillna(0)\n",
    "crtlTablePS.sort_index(level=0, ascending=True, inplace=True)\n",
    "crtlTablePS = crtlTablePS.reindex(sorted(crtlTablePS.columns), axis=1)\n",
    "\n",
    "ax = sns.heatmap(crtlTablePS, annot=True, linewidths=.5,\n",
    "                 cmap = sns.cm.rocket_r, ax=ax[1]).set(title='Average Control-PrimarySite')\n",
    "plt.savefig('figures/ctrlLymph_vs_ctrlPS_avgdist.pdf', format='pdf')"
   ]
  },
  {
   "cell_type": "markdown",
   "id": "e088f457-9a1e-467e-86a1-6d199ef34957",
   "metadata": {},
   "source": [
    "### Case Vs. Control Pairwise Distance Deltas"
   ]
  },
  {
   "cell_type": "code",
   "execution_count": null,
   "id": "e284199c-9316-4f78-b8df-123949307371",
   "metadata": {},
   "outputs": [],
   "source": [
    "deltas = caseTableLN.subtract(crtlTableLN, fill_value=0, axis=1)\n",
    "## Blue = Closer in Cases\n",
    "## Red = Further away in Cases\n",
    "\n",
    "f, ax = plt.subplots(1, 2, figsize=(15, 6))\n",
    "sns.heatmap(deltas, annot=True, linewidths=.5, cmap = sns.cm.vlag, vmin=-30, vmax=40,\n",
    "            ax=ax[0]).set(title='Case vs. Control [Lymphnode] Deltas (um)')\n",
    "\n",
    "deltas = caseTablePS.subtract(crtlTablePS, fill_value=0, axis=1)\n",
    "## Blue = Closer in Cases\n",
    "## Red = Further away in Cases\n",
    "ax1 = sns.heatmap(deltas, annot=True, linewidths=.5, cmap = sns.cm.vlag, vmin=-30, vmax=40,\n",
    "                  ax=ax[1]).set(title='Case vs. Control [PrimarySite] Deltas (um)')\n",
    "plt.savefig('figures/case_vs_ctrl_distance_deltas.pdf', format='pdf')"
   ]
  }
 ],
 "metadata": {
  "kernelspec": {
   "display_name": "spatial_env (Local)",
   "language": "python",
   "name": "local-spatial_env"
  },
  "language_info": {
   "codemirror_mode": {
    "name": "ipython",
    "version": 3
   },
   "file_extension": ".py",
   "mimetype": "text/x-python",
   "name": "python",
   "nbconvert_exporter": "python",
   "pygments_lexer": "ipython3",
   "version": "3.8.18"
  }
 },
 "nbformat": 4,
 "nbformat_minor": 5
}
