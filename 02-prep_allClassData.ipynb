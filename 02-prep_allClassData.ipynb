{
 "cells": [
  {
   "cell_type": "code",
   "execution_count": null,
   "id": "aa13eb1a-6ef1-44cc-ae56-3808a49549c1",
   "metadata": {
    "scrolled": true,
    "tags": []
   },
   "outputs": [],
   "source": [
    "!pip install anndata\n",
    "!pip install dask[array]>=2021.02.0\n",
    "!pip install scanpy\n",
    "!pip install libgl1-mesa-dev --user\n",
    "!pip install squidpy --user\n",
    "!pip install scimap --user"
   ]
  },
  {
   "cell_type": "code",
   "execution_count": null,
   "id": "e671785c-bb37-42b5-a651-5dc5de870962",
   "metadata": {},
   "outputs": [],
   "source": [
    "import os, sys, re, random, math, time, glob\n",
    "import pandas as pd\n",
    "import numpy as np\n",
    "import matplotlib.pyplot as plt\n",
    "import matplotlib as mpl\n",
    "from sklearn.neighbors import NearestNeighbors\n",
    "from sklearn.cluster import MiniBatchKMeans\n",
    "import seaborn as sns\n",
    "from pprint import pprint\n",
    "import yaml\n",
    "import uuid\n",
    "\n",
    "import anndata as ad\n",
    "print(f\"anndata=={ad.__version__}\")\n",
    "import scanpy as sc\n",
    "import squidpy as sq\n",
    "print(f\"squidpy=={sq.__version__}\")\n",
    "import scimap as sm\n",
    "print(f\"scimap=={sm.__version__}\")\n",
    "\n",
    "from scipy.stats import kurtosis\n",
    "from scipy.stats import skew\n",
    "from scipy.stats import iqr\n",
    "\n",
    "%matplotlib inline\n",
    "# breakout by LN/Tumor(PrimarySite) (only want matched pairs)"
   ]
  },
  {
   "cell_type": "code",
   "execution_count": null,
   "id": "83fd04af-6f09-479a-8d2b-6df6f355ffa7",
   "metadata": {},
   "outputs": [],
   "source": [
    "qDir = r\"./QUANT_with_preds\"\n",
    "qFiles = glob.glob(os.path.join(qDir,\"*_QUANT.tsv\"))\n",
    "print(\"Found \"+str(len(qFiles))+\" Quant Files\")"
   ]
  },
  {
   "cell_type": "code",
   "execution_count": null,
   "id": "baf2f5ae-725e-48d3-a412-ab26e9ca8042",
   "metadata": {},
   "outputs": [],
   "source": [
    "## Reformat quant files\n",
    "import time\n",
    "start_time = time.time()\n",
    "keepDFList = []\n",
    "for qFile in qFiles:\n",
    "    df = pd.read_csv(qFile, sep='\\t', low_memory=False)\n",
    "    if df.shape[0] < 3:\n",
    "        continue\n",
    "    header = [e.replace(':', '') for e in df.columns.values.tolist() ]\n",
    "    header = [e.replace('/', '') for e in header ]\n",
    "    header = [e.replace('^', '') for e in header ]\n",
    "    header = [e.replace('.', '') for e in header ]\n",
    "    header = [e.replace('µ', 'u') for e in header ]\n",
    "    header = [e.replace(' ', '_') for e in header ]\n",
    "    header = [e.replace('-02_', '_') for e in header ]\n",
    "    df.columns = header\n",
    "    df['ROI'] = [e.split(' - ')[0].replace('.ome.tiff', '') for e in df['Image'].tolist() ]\n",
    "    df['Slide'] = df['ROI']\n",
    "           \n",
    "    for i in range(len(df)):\n",
    "        e=df['Slide'][i]\n",
    "        if ((\"-\" in e) and (\"split\" not in e)):\n",
    "            df.loc[i, 'Slide']='_'.join(e.split('_')[0:2])\n",
    "        else: \n",
    "            df.loc[i, 'Slide']='_'.join(e.split('_')[0:3])\n",
    "    \n",
    "    top = np.min(df['Centroid_Y_um']) + np.max(df['Centroid_Y_um'])\n",
    "    df['invertY'] = top - df['Centroid_Y_um']\n",
    "    nClass = df['Class'].astype(str).nunique()\n",
    "    #print(\"    Unique Classifications: \"+str(nClass) )\n",
    "    print(\"{}  : {} x {}  <{} classes>\".format(os.path.basename(qFile), df.shape[0], df.shape[1],nClass))\n",
    "    keepDFList.append(df)\n",
    "print(\"--- %s minutes ---\" % ((time.time() - start_time)/60))"
   ]
  },
  {
   "cell_type": "code",
   "execution_count": null,
   "id": "e1ab5713-6ffd-4aa1-aeb1-fbce2fe820a3",
   "metadata": {},
   "outputs": [],
   "source": [
    "allClassData = pd.concat(keepDFList)\n",
    "allClassData"
   ]
  },
  {
   "cell_type": "code",
   "execution_count": null,
   "id": "9a3fcedc-5645-4945-b0a6-f09efcf677aa",
   "metadata": {},
   "outputs": [],
   "source": [
    "allClassData = allClassData[allClassData.columns.drop(list(allClassData.filter(regex='(_Variance|_Min|_Cytoplasm_)')))]\n",
    "\n",
    "print(\"Pre-DeDup Rows = {}\".format(allClassData.shape[0])) # number of row\n",
    "allClassData.drop_duplicates(subset=[\"ROI\", \"Centroid_X_um\",\"Centroid_Y_um\"], keep='first', inplace=True) # Try adding ROI to see if there are still duplicates\n",
    "print(\"Post-DeDup Rows = {}\".format(allClassData.shape[0])) # number of row\n",
    "allClassData = allClassData[~allClassData['Class'].str.contains(\"ARTIFACT: \", na=False)]\n",
    "print(\"No Artifacts Rows = {}\".format(allClassData.shape[0])) # number of row\n",
    "allClassData.reset_index(drop=True, inplace=True)\n",
    "\n",
    "allClassData['uuid'] = [uuid.uuid4() for _ in range(len(allClassData.index))]"
   ]
  },
  {
   "cell_type": "code",
   "execution_count": null,
   "id": "8fa14284-b40e-4996-873f-d1107bff30d2",
   "metadata": {},
   "outputs": [],
   "source": [
    "allClassData['ROI'].value_counts()"
   ]
  },
  {
   "cell_type": "code",
   "execution_count": null,
   "id": "9e8b2358-4d9b-4e28-a31c-e15e946f7837",
   "metadata": {},
   "outputs": [],
   "source": [
    "allClassData['Slide'].value_counts()"
   ]
  },
  {
   "cell_type": "code",
   "execution_count": null,
   "id": "f0ecdc4c-3292-478d-a330-0d16a1bebe12",
   "metadata": {},
   "outputs": [],
   "source": [
    "allClassData['Class'].value_counts()"
   ]
  },
  {
   "cell_type": "code",
   "execution_count": null,
   "id": "4d31746e-2552-4fec-a1e4-4b36d30ffa7d",
   "metadata": {},
   "outputs": [],
   "source": [
    "# Check that all cells have an associated Slide\n",
    "allClassData[allClassData['Slide'].isnull()]"
   ]
  },
  {
   "cell_type": "code",
   "execution_count": null,
   "id": "53409774-7c82-4a78-b03b-28ab4a38ea51",
   "metadata": {},
   "outputs": [],
   "source": [
    "mFile =r\"./MetaData.txt\"\n",
    "meta = pd.read_csv(mFile, sep='\\t')\n",
    "allClassData = allClassData.merge(meta,how='left', left_on='Slide', right_on='SampleName')"
   ]
  },
  {
   "cell_type": "code",
   "execution_count": null,
   "id": "e3275550-dee7-4979-aab9-1aa05486925d",
   "metadata": {},
   "outputs": [],
   "source": [
    "pd.crosstab(allClassData['Class'], allClassData['Cohort'])"
   ]
  },
  {
   "cell_type": "code",
   "execution_count": null,
   "id": "008ac7b7-6641-4862-a806-7a73eb555da6",
   "metadata": {},
   "outputs": [],
   "source": [
    "data = allClassData['Cohort'].value_counts()\n",
    "pie, ax = plt.subplots(figsize=(4,4))\n",
    "labels = data.index\n",
    "ax.pie(x=data.values, autopct=\"%.1f%%\", explode=[0.05]*len(data), labels=labels, \n",
    "       pctdistance=0.4, textprops={'fontsize': 14})\n",
    "plt.title(\"Total Cells Per Clinical Endpoint\", fontsize=12);\n",
    "plt.show()"
   ]
  },
  {
   "cell_type": "code",
   "execution_count": null,
   "id": "4b564391-390e-4ad1-a152-0f3c1847f623",
   "metadata": {},
   "outputs": [],
   "source": [
    "# Make sure all cells have an associated cohort\n",
    "allClassData[\"Cohort\"].value_counts(dropna=False)"
   ]
  },
  {
   "cell_type": "code",
   "execution_count": null,
   "id": "88b9f17a-7772-4b79-b80b-02327659972a",
   "metadata": {},
   "outputs": [],
   "source": [
    "## ONVA, C, E = LN\n",
    "## ONVB, D, F = Tumor\n",
    "conditions = [\n",
    "    (allClassData['Slide'].str.contains(\"lymph\")),\n",
    "    (allClassData['Slide'].str.contains(\"ps\"))\n",
    "   ]\n",
    "choices = ['Lymphnode', 'PrimarySite']\n",
    "allClassData['SiteLoc'] = np.select(conditions, choices, default='NA')\n",
    "\n",
    "pd.crosstab(allClassData['Slide'],allClassData['SiteLoc'])"
   ]
  },
  {
   "cell_type": "code",
   "execution_count": null,
   "id": "07772ab2-e326-4167-a026-97d7a1678e27",
   "metadata": {},
   "outputs": [],
   "source": [
    "allClassData[\"Origin\"] = allClassData[\"Cohort\"] + \"-\" + allClassData[\"SiteLoc\"]\n",
    "data = allClassData['Origin'].value_counts()\n",
    "pie, ax = plt.subplots(figsize=(4,4))\n",
    "labels = data.index\n",
    "ax.pie(x=data.values, autopct=\"%.1f%%\", explode=[0.05]*len(data), labels=labels, \n",
    "       pctdistance=0.4, textprops={'fontsize': 14})\n",
    "plt.title(\"Total Cells Per Source\", fontsize=12);\n",
    "plt.show()"
   ]
  },
  {
   "cell_type": "code",
   "execution_count": null,
   "id": "b9445600-ef52-4c6a-af01-1dd68c305199",
   "metadata": {},
   "outputs": [],
   "source": [
    "# Make sure all cells have an associated SiteLoc\n",
    "allClassData[\"SiteLoc\"].value_counts(dropna=False)"
   ]
  },
  {
   "cell_type": "code",
   "execution_count": null,
   "id": "d3c1338b-a109-4417-87f7-2002cba672bc",
   "metadata": {},
   "outputs": [],
   "source": [
    "# Save table for next step\n",
    "allClassData.to_csv(\"./allClassData.csv\", index=False)"
   ]
  },
  {
   "cell_type": "code",
   "execution_count": null,
   "id": "1e221126-f466-4654-9542-fe36623da215",
   "metadata": {},
   "outputs": [],
   "source": []
  }
 ],
 "metadata": {
  "kernelspec": {
   "display_name": "spatial_env (Local)",
   "language": "python",
   "name": "local-spatial_env"
  },
  "language_info": {
   "codemirror_mode": {
    "name": "ipython",
    "version": 3
   },
   "file_extension": ".py",
   "mimetype": "text/x-python",
   "name": "python",
   "nbconvert_exporter": "python",
   "pygments_lexer": "ipython3",
   "version": "3.8.18"
  }
 },
 "nbformat": 4,
 "nbformat_minor": 5
}
